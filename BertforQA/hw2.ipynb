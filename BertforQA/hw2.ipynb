{
 "cells": [
  {
   "cell_type": "code",
   "execution_count": 1,
   "metadata": {},
   "outputs": [],
   "source": [
    "import pandas as pd\n",
    "import time\n",
    "import math\n",
    "import re\n",
    "import json\n",
    "\n",
    "import torch\n",
    "import torch.nn as nn\n",
    "from torch.nn import CrossEntropyLoss, MSELoss, BCEWithLogitsLoss\n",
    "import torch.optim as optim\n",
    "from torch.utils.data import Dataset\n",
    "from torch.utils.data import DataLoader\n",
    "\n",
    "from transformers import BertModel, BertTokenizer, AdamW, BertPreTrainedModel\n",
    "from transformers import get_linear_schedule_with_warmup"
   ]
  },
  {
   "cell_type": "code",
   "execution_count": 2,
   "metadata": {},
   "outputs": [],
   "source": [
    "def asMinutes(s): #s = time.time()-start_time\n",
    "    m = math.floor(s / 60)\n",
    "    s -= m * 60\n",
    "    return '%dm %ds' % (m, s)"
   ]
  },
  {
   "cell_type": "code",
   "execution_count": 3,
   "metadata": {},
   "outputs": [],
   "source": [
    "class Timer(object):\n",
    "    \"\"\" A quick tic-toc timer\n",
    "    Credit: http://stackoverflow.com/questions/5849800/tic-toc-functions-analog-in-python\n",
    "    \"\"\"\n",
    "    def __init__(self, name=None, verbose=True):\n",
    "        self.name = name\n",
    "        self.verbose = verbose\n",
    "        self.elapsed = None\n",
    "\n",
    "    def __enter__(self):\n",
    "        self.tstart = time.time()\n",
    "        return self\n",
    "\n",
    "    def __exit__(self, type, value, traceback):\n",
    "        self.elapsed = time.time() - self.tstart\n",
    "        if self.verbose:\n",
    "            if self.name:\n",
    "                print ('[%s]' % self.name,)\n",
    "        print ('Total executing time for : %s' % self.elapsed)"
   ]
  },
  {
   "cell_type": "code",
   "execution_count": 4,
   "metadata": {},
   "outputs": [],
   "source": [
    "def clean(context, answer, question, start_pos):\n",
    "    q_len = len(question)\n",
    "    if q_len > 40:\n",
    "        question = question[-40:]\n",
    "        q_len = 40\n",
    "    if len(context) + q_len + 3 <= 512:\n",
    "        return context, question\n",
    "    else:\n",
    "        remain = 512 - 3 - q_len\n",
    "        if answer == '':\n",
    "            return context[:remain], question\n",
    "        if start_pos + len(answer) -1 < remain:\n",
    "            return context[:remain], question\n",
    "        else:\n",
    "            return None, None\n",
    "\n",
    "        \n",
    "def load_data_to_df(data):\n",
    "#     punc = '[，＠＃＄％＾＆＊，。、“\\/.……%$!@#$「」：；%^&*()《》_+？—]'\n",
    "    para_id, context, question, q_id, answer, answer_start, answer_end, answerable, answer_start= [], [], [], [], [], [], [], [], []\n",
    "    for i in range(len(data['data'])):\n",
    "        for article in data['data'][i]['paragraphs']:\n",
    "            for qa in article['qas']:\n",
    "                start_pos = qa['answers'][0]['answer_start']\n",
    "                temp_context, temp_question = clean(article['context'], qa['answers'][0]['text'], qa['question'], start_pos)\n",
    "                if temp_context == None:\n",
    "                    continue\n",
    "                answer_start.append(start_pos)\n",
    "                question.append(temp_question)\n",
    "                context.append(temp_context)\n",
    "                answer.append(qa['answers'][0]['text'])\n",
    "                para_id.append(data['data'][i]['id'])\n",
    "                q_id.append(qa['id'])\n",
    "                answerable.append(qa['answerable'])\n",
    "    temp = {\n",
    "        'para_id': para_id,\n",
    "        'context': context,\n",
    "        'question': question,\n",
    "        'q_id': q_id,\n",
    "        'answer': answer ,\n",
    "        'answerable': answerable,\n",
    "        'start_pos' : answer_start\n",
    "    }\n",
    "    df = pd.DataFrame(temp)\n",
    "    return df"
   ]
  },
  {
   "cell_type": "code",
   "execution_count": 5,
   "metadata": {},
   "outputs": [],
   "source": [
    "with open('./data/train.json' , 'rb') as f:\n",
    "    train_data = json.loads(f.read())\n",
    "with open('./data/dev.json' , 'rb') as f:\n",
    "    valid_data = json.loads(f.read())\n",
    "train_df = load_data_to_df(train_data)\n",
    "valid_df = load_data_to_df(valid_data)"
   ]
  },
  {
   "cell_type": "code",
   "execution_count": 6,
   "metadata": {},
   "outputs": [
    {
     "data": {
      "text/plain": [
       "(37341, 7)"
      ]
     },
     "execution_count": 6,
     "metadata": {},
     "output_type": "execute_result"
    }
   ],
   "source": [
    "train_df.shape"
   ]
  },
  {
   "cell_type": "code",
   "execution_count": 7,
   "metadata": {},
   "outputs": [
    {
     "data": {
      "text/plain": [
       "(4843, 7)"
      ]
     },
     "execution_count": 7,
     "metadata": {},
     "output_type": "execute_result"
    }
   ],
   "source": [
    "valid_df.shape"
   ]
  },
  {
   "cell_type": "code",
   "execution_count": 8,
   "metadata": {},
   "outputs": [],
   "source": [
    "# index = 35443\n",
    "# question = train_df.iloc[index].question[-40:]\n",
    "# context = train_df.iloc[index].context[:(512-len(question) - 3)]\n",
    "# start_pos = train_df.iloc[index].start_pos"
   ]
  },
  {
   "cell_type": "code",
   "execution_count": 9,
   "metadata": {},
   "outputs": [],
   "source": [
    "class QADataset(Dataset):\n",
    "    def __init__(self, df, mode , tokenizer):\n",
    "        assert mode in [\"train\", \"test\"]  # \n",
    "        self.mode = mode\n",
    "        self.df = df\n",
    "        self.tokenizer = tokenizer  # transformer 中的 BERT tokenizer\n",
    "    \n",
    "    def __getitem__(self, idx):\n",
    "        data = self.df.iloc[idx]\n",
    "        question = data['question']\n",
    "        context = data['context']\n",
    "        start_pos, end_pos = -1, -1\n",
    "        if self.mode == 'train':\n",
    "            encoded = self.tokenizer.encode_plus(\n",
    "                question, \n",
    "                context, \n",
    "                pad_to_max_length = True,\n",
    "                add_special_tokens  = True,\n",
    "                return_tensors = 'pt',\n",
    "                return_token_type_ids = True,\n",
    "                return_attention_mask = True,\n",
    "                truncation_strategy = 'only_second'\n",
    "            )\n",
    "            inputs_ids = encoded['input_ids'].squeeze(0)\n",
    "            token_type_ids = encoded['token_type_ids'].squeeze(0)\n",
    "            attention_mask = encoded['attention_mask'].squeeze(0)\n",
    "            answer = data['answer']\n",
    "            start_pos = data['start_pos']\n",
    "            answerable = 1 if data['answerable'] else 0\n",
    "            if answerable == 1:\n",
    "#                 start_pos, end_pos, answerable = self.reassign(inputs_ids, answer, )\n",
    "#                 print(answer)\n",
    "                start_pos, end_pos, answerable = self.reassign(question, answer, context[:start_pos])\n",
    "            start_pos, end_pos, answerable = torch.tensor(start_pos, dtype=torch.long),  torch.tensor(end_pos, dtype=torch.long), torch.tensor(answerable, dtype=torch.long)\n",
    "            return (inputs_ids, token_type_ids, attention_mask, start_pos, end_pos, answerable)\n",
    "        encoded = self.tokenizer.encode_plus(\n",
    "                question, \n",
    "                context, \n",
    "                max_length  = 512,\n",
    "                pad_to_max_length = True,\n",
    "                add_special_tokens  = True,\n",
    "                return_tensors = 'pt',\n",
    "                return_token_type_ids = True,\n",
    "                return_attention_mask = True,\n",
    "                truncation_strategy = 'only_second'\n",
    "            )\n",
    "        \n",
    "        inputs_ids = encoded['input_ids'][0]\n",
    "        token_type_ids = encoded['token_type_ids'][0]\n",
    "        attention_mask = encoded['attention_mask'][0]\n",
    "        return (inputs_ids, token_type_ids, attention_mask, data['q_id'])\n",
    "    \n",
    "    \n",
    "    def reassign(self, question, answer, b_context):\n",
    "        q_len = len(self.tokenizer.encode(question, add_special_tokens = False, return_tensors ='pt')[0]) \n",
    "        b_len = len(self.tokenizer.encode(b_context, add_special_tokens = False, return_tensors ='pt')[0])\n",
    "        ans_len = len(self.tokenizer.encode(answer, add_special_tokens = False, return_tensors ='pt')[0])\n",
    "        start_pos = q_len + b_len + 2\n",
    "        end_pos = start_pos + ans_len -1\n",
    "        return start_pos, end_pos, 1\n",
    "\n",
    "    \n",
    "    def __len__(self):\n",
    "        return len(self.df)"
   ]
  },
  {
   "cell_type": "code",
   "execution_count": 11,
   "metadata": {},
   "outputs": [],
   "source": [
    "class BertQA(BertPreTrainedModel):\n",
    "    def __init__(self, config):\n",
    "        super(BertQA, self).__init__(config)\n",
    "        self.num_labels = config.num_labels\n",
    "        self.bert = BertModel(config)\n",
    "        self.qa_outputs = nn.Linear(config.hidden_size, config.num_labels)\n",
    "        self.ans_outputs = nn.Linear(config.hidden_size, 2) # crossentropy\n",
    "        self.dropout = nn.Dropout(config.hidden_dropout_prob)\n",
    "        self.init_weights()\n",
    "\n",
    "    def forward(\n",
    "        self,\n",
    "        input_ids=None,\n",
    "        attention_mask=None,\n",
    "        token_type_ids=None,\n",
    "        position_ids=None,\n",
    "        head_mask=None,\n",
    "        inputs_embeds=None,\n",
    "        start_positions=None,\n",
    "        end_positions=None,\n",
    "        answerable = None,\n",
    "        args = None\n",
    "    ):\n",
    "\n",
    "        outputs = self.bert(\n",
    "            input_ids,\n",
    "            attention_mask=attention_mask,\n",
    "            token_type_ids=token_type_ids,\n",
    "            position_ids=position_ids,\n",
    "            head_mask=head_mask,\n",
    "            inputs_embeds=inputs_embeds,\n",
    "        )\n",
    "        #outputs \n",
    "        \n",
    "        sequence_output = outputs[0] # sequence_output : torch.Size([batch_size, 512, 768])\n",
    "        logits = self.qa_outputs(sequence_output)\n",
    "        start_logits, end_logits = logits.split(1, dim=-1)\n",
    "        start_logits = start_logits.squeeze(-1) #torch.Size([batch_size, 512,])\n",
    "        end_logits = end_logits.squeeze(-1)\n",
    "        \n",
    "        #answerable\n",
    "        cls = outputs[1] # cls : torch.Size([batch_size, 768])\n",
    "        cls = self.dropout(cls)\n",
    "        ans_logits = self.ans_outputs(cls)\n",
    "\n",
    "        outputs = (start_logits, end_logits, ans_logits) \n",
    "        if start_positions is not None and end_positions is not None :\n",
    "            # If we are on multi-GPU, split add a dimension\n",
    "            if len(start_positions.size()) > 1:\n",
    "                start_positions = start_positions.squeeze(-1)\n",
    "            if len(end_positions.size()) > 1:\n",
    "                end_positions = end_positions.squeeze(-1)\n",
    "            # sometimes the start/end positions are outside our model inputs, we ignore these terms\n",
    "\n",
    "            ignored_index = start_logits.size(1)\n",
    "            start_positions.clamp_(0, ignored_index)\n",
    "            end_positions.clamp_(0, ignored_index)\n",
    "            start_logits = start_logits.masked_fill(token_type_ids == 0 ,  -math.inf)\n",
    "            end_logits = end_logits.masked_fill(token_type_ids == 0 , -math.inf)\n",
    "\n",
    "            loss_fct = CrossEntropyLoss(ignore_index = 0)\n",
    "            start_loss = loss_fct(start_logits, start_positions)\n",
    "            end_loss = loss_fct(end_logits, end_positions)\n",
    "            \n",
    "            weight = torch.tensor([0.7, 0.3]).cuda(args.device)\n",
    "            loss_fct1 =  CrossEntropyLoss(weight = weight)\n",
    "            ans_loss = loss_fct1(ans_logits, answerable)\n",
    "            \n",
    "            total_loss = (start_loss + end_loss + ans_loss) / 3\n",
    "            outputs = (total_loss, start_loss+ end_loss, ans_loss) + outputs\n",
    "\n",
    "           \n",
    "        return outputs  # (loss), start_logits, end_logits, (hidden_states), (attentions)"
   ]
  },
  {
   "cell_type": "code",
   "execution_count": 12,
   "metadata": {},
   "outputs": [],
   "source": [
    "class Args():\n",
    "    def __init__(self):\n",
    "        self.epoch = 4\n",
    "        self.lr = 1e-5\n",
    "        self.batch_size = 10\n",
    "        self.gpu = torch.cuda.is_available()\n",
    "        self.device = 0"
   ]
  },
  {
   "cell_type": "code",
   "execution_count": 13,
   "metadata": {},
   "outputs": [],
   "source": [
    "def get_optimizer(model, trainloader_len, epoch, lr):\n",
    "    optimizer = AdamW(model.parameters(), lr = lr)\n",
    "    total_steps = trainloader_len * epoch\n",
    "    scheduler = get_linear_schedule_with_warmup(optimizer, num_warmup_steps = 100, num_training_steps = total_steps)\n",
    "    return optimizer, scheduler"
   ]
  },
  {
   "cell_type": "code",
   "execution_count": 14,
   "metadata": {},
   "outputs": [],
   "source": [
    "def train(data, model, optimizer, scheduler, args):\n",
    "    inputs_ids, token_type_ids, attention_mask, start_pos, end_pos, answerable = [i.cuda(args.device) if args.gpu else i for i in data ]\n",
    "    outputs = model(inputs_ids, attention_mask= attention_mask, token_type_ids= token_type_ids ,start_positions = start_pos, end_positions = end_pos, answerable = answerable, args = args)\n",
    "    loss, SE_loss, ans_loss = outputs [0], outputs[1], outputs[2]\n",
    "    loss.backward() # calculate gradient\n",
    "    torch.nn.utils.clip_grad_norm_(model.parameters(), 1.0)\n",
    "    optimizer.step()\n",
    "    scheduler.step()\n",
    "    model.zero_grad()\n",
    "    return loss, SE_loss, ans_loss\n",
    "\n",
    "def evals(data, model, args):\n",
    "    with torch.no_grad():\n",
    "        inputs_ids, token_type_ids, attention_mask, start_pos, end_pos, answerable = [i.cuda(args.device) if args.gpu else i for i in data ]\n",
    "        outputs = model(inputs_ids, attention_mask= attention_mask, token_type_ids= token_type_ids ,start_positions = start_pos, end_positions = end_pos, answerable = answerable, args =args)\n",
    "        loss, SE_loss, ans_loss = outputs [0], outputs[1], outputs[2]\n",
    "    return loss, SE_loss, ans_loss"
   ]
  },
  {
   "cell_type": "code",
   "execution_count": 15,
   "metadata": {
    "scrolled": false
   },
   "outputs": [],
   "source": [
    "def train_iters():\n",
    "    args = Args()\n",
    "    tokenizer = BertTokenizer.from_pretrained('bert-base-chinese', do_lower_case=True)\n",
    "\n",
    "    trainset = QADataset(train_df, \"train\", tokenizer=tokenizer)\n",
    "    trainloader = DataLoader(trainset, batch_size = args.batch_size, drop_last = True, shuffle= True)\n",
    "\n",
    "    validset = QADataset(valid_df, \"train\", tokenizer=tokenizer)\n",
    "    validloader = DataLoader(validset, batch_size = args.batch_size, drop_last = True, shuffle= True)\n",
    "    model = BertQA.from_pretrained('bert-base-chinese')\n",
    "    if args.gpu:\n",
    "        model = model.cuda(args.device)\n",
    "    model.train()\n",
    "#     model.bert.embeddings.requires_grad = False\n",
    "    train_loss_list, val_loss_list = [], []\n",
    "    for i in range(args.epoch):\n",
    "        index, total, total_SE_loss, total_ans_loss, total_loss, val_loss, min_val_loss = 0, 0, 0, 0, 0, 0, 100000\n",
    "        optimizer, scheduler = get_optimizer(model, len(trainloader), args.epoch, args.lr)\n",
    "        start_time = time.time()\n",
    "        with Timer():\n",
    "            for data in trainloader:\n",
    "                loss, SE_loss, ans_loss = train(data, model, optimizer, scheduler, args)\n",
    "                total += 1\n",
    "                total_SE_loss += SE_loss\n",
    "                total_ans_loss += ans_loss\n",
    "                total_loss += loss \n",
    "                print(f'Epoch : { i + 1} / { args.epoch } ,iterations: {index}, SE_Loss: {total_SE_loss/ total}, ANS_Loss :{total_ans_loss/total},Average_Training Loss : {total_loss / total }', end = '\\r')\n",
    "                index += 1\n",
    "            print(f'\\n Total training time: {time.time() - start_time} ', end = '\\n')\n",
    "        train_loss_list.append(total_loss/ total)\n",
    "        \n",
    "        index, total, total_loss ,index = 0, 0, 0, 0\n",
    "        start_time = time.time()\n",
    "        with Timer():\n",
    "            for data in validloader:\n",
    "                loss, SE_loss, ans_loss = evals(data, model, args)\n",
    "                total += 1\n",
    "                total_loss += loss \n",
    "                print(f'Epoch : { i + 1} / { args.epoch } ,iterations: {index}, Average_Training Loss : {total_loss / total }', end = '\\r')\n",
    "                index += 1\n",
    "            print(f'\\n Total Validation time: {time.time() - start_time } ', end = '\\n')\n",
    "            val_loss = total_loss / total\n",
    "            val_loss_list.append(val_loss)\n",
    "        if val_loss < min_val_loss: \n",
    "            min_val_loss = val_loss\n",
    "            checkpoint_path = f'./model/bertqa_ckpt_{i}.pt'\n",
    "            torch.save({\n",
    "                    'epoch': i,\n",
    "                    'model_state_dict': model.state_dict(),\n",
    "                    'optimizer_state_dict': optimizer.state_dict(),\n",
    "                    'train_loss_list' : train_loss_list,\n",
    "                    }, checkpoint_path)\n",
    "    return train_loss_list, val_loss_list"
   ]
  },
  {
   "cell_type": "code",
   "execution_count": 25,
   "metadata": {
    "scrolled": true
   },
   "outputs": [],
   "source": [
    "train_iters()"
   ]
  },
  {
   "cell_type": "markdown",
   "metadata": {},
   "source": [
    "## May be better:\n",
    "- freeze embedding layer\n",
    "- lr"
   ]
  },
  {
   "cell_type": "markdown",
   "metadata": {},
   "source": [
    "## Prediction part"
   ]
  },
  {
   "cell_type": "code",
   "execution_count": 19,
   "metadata": {},
   "outputs": [],
   "source": [
    "def clean_test(context, question):\n",
    "    q_len = len(question)\n",
    "    if q_len > 40:\n",
    "        question = question[-40:]\n",
    "        q_len = 40\n",
    "    if len(context) + q_len + 3 < 512:\n",
    "        return context, question\n",
    "    else:\n",
    "        remain = 512 - 3 - q_len\n",
    "        return context[:remain], question\n",
    "    \n",
    "def load_data_to_df_test(test):\n",
    "#     punc = '[，＠＃＄％＾＆＊，。、“\\/.……%$!@#$「」：；%^&*()《》_+？—]'\n",
    "    para_id, context, question, q_id, = [],[],[],[]\n",
    "    for i in range(len(test['data'])):\n",
    "        for article in test['data'][i]['paragraphs']:\n",
    "            for qa in article['qas']:\n",
    "                temp_context, temp_question = clean_test(article['context'], qa['question'])\n",
    "                context.append(temp_context)\n",
    "                question.append(temp_question)\n",
    "                para_id.append(test['data'][i]['id'])\n",
    "                q_id.append(qa['id'])\n",
    "\n",
    "    data = {\n",
    "        'para_id': para_id,\n",
    "        'context': context,\n",
    "        'question': question,\n",
    "        'q_id': q_id,\n",
    "    }\n",
    "    test_df = pd.DataFrame(data=data)\n",
    "    return test_df"
   ]
  },
  {
   "cell_type": "code",
   "execution_count": 20,
   "metadata": {},
   "outputs": [],
   "source": [
    "class Args_test():\n",
    "    def __init__(self):\n",
    "        self.batch_size = 5\n",
    "        self.gpu = torch.cuda.is_available()\n",
    "        self.device = 0"
   ]
  },
  {
   "cell_type": "code",
   "execution_count": 21,
   "metadata": {},
   "outputs": [],
   "source": [
    "def test(data, model, tokenizer, args):\n",
    "    inputs_ids, token_type_ids, attention_mask = [i.cuda(args.device) if args.gpu else i for i in data[:3]]\n",
    "    q_id = data[3]\n",
    "    (start_score, end_score, answerable) = model(inputs_ids, attention_mask= attention_mask, token_type_ids= token_type_ids, args = args)\n",
    "    a_val, a_idx = answerable.max(-1)\n",
    "\n",
    "    start_score = start_score.masked_fill(token_type_ids == 0 ,  -100)\n",
    "    end_score = end_score.masked_fill(token_type_ids == 0 ,  -100)\n",
    "    s_val, s_idx = start_score.max(-1)\n",
    "    e_val, e_idx = end_score.max(-1)\n",
    "    ret = dict()\n",
    "    for i in range(len(s_idx)):\n",
    "        if a_idx[i] == 0:\n",
    "            ans = ''\n",
    "        else:\n",
    "            ans = ''\n",
    "            if s_idx[i] <= e_idx[i]:\n",
    "                ans = inputs_ids[i][s_idx[i]: e_idx[i] + 1].tolist()\n",
    "                ans = ''.join([tokenizer.convert_ids_to_tokens(i) for i in ans])\n",
    "                spe_tok = ['#', '[CLS]', '[SEP]', '[UNK]', ' ']\n",
    "                for j in spe_tok:\n",
    "                    ans = ans.replace(j, '')\n",
    "        ret[q_id[i]] = ans[:30]\n",
    "    return ret\n"
   ]
  },
  {
   "cell_type": "code",
   "execution_count": 22,
   "metadata": {},
   "outputs": [],
   "source": [
    "def test_iters(model_name):\n",
    "    args = Args_test()\n",
    "    \n",
    "    with open('./data/dev.json' , 'rb') as f:\n",
    "        test_data = json.loads(f.read())\n",
    "    test_df = load_data_to_df_test(test_data)\n",
    "    \n",
    "    tokenizer = BertTokenizer.from_pretrained('bert-base-chinese', do_lower_case=True)\n",
    "    testset = QADataset(test_df, \"test\", tokenizer=tokenizer)\n",
    "    testloader = DataLoader(testset, batch_size = args.batch_size)\n",
    "    \n",
    "    # load model\n",
    "    model = BertQA.from_pretrained('bert-base-chinese')\n",
    "    ckpt = torch.load(f'./model/{model_name}')\n",
    "    model.load_state_dict(ckpt['model_state_dict'])\n",
    "    if args.gpu:\n",
    "        model = model.cuda(args.device)\n",
    "    prediction = dict()\n",
    "    index = 0\n",
    "    with Timer():\n",
    "        with torch.no_grad():\n",
    "            for data in testloader:\n",
    "                pred = test(data, model, tokenizer, args)\n",
    "                prediction.update(pred)\n",
    "                print(f'prediction iterations: {index}, ans :{pred}', end = '\\r')\n",
    "                index += 1\n",
    "    return prediction  "
   ]
  },
  {
   "cell_type": "code",
   "execution_count": 23,
   "metadata": {},
   "outputs": [
    {
     "name": "stdout",
     "output_type": "stream",
     "text": [
      "Total executing time for : 83.69748377799988ba49754326d04cd0f8bd1545dc13ea4c864dd4c48c4a6b2d': '1992年', '0ffb7690f0a695f9f4d5e4d6d2e3e3a5446d5f88a61469b37b8d1bea': '2001年', 'e2213cd2c51f247019d27a4041141929740f65f390c4f78c30e33665': '2002年', '5aa22d46fb63e21de0bad92ea2ad6557f5be0b488db2de89b8d4c4e0': '美國'}497ad27c18e06836b5a04c127983ee05997f4a1f2dd8ccbd13d339e': '庾澄慶'}'}厥如尼字母、回汗國'}fa370563a84ea97ec039fe0cd4a': '11世紀'}\n"
     ]
    }
   ],
   "source": [
    "prediction = test_iters('bertqa_ckpt_3.pt')"
   ]
  },
  {
   "cell_type": "code",
   "execution_count": 24,
   "metadata": {},
   "outputs": [],
   "source": [
    "with open('prediction.json','w') as f:\n",
    "    f.write(json.dumps(prediction, ensure_ascii=False))      "
   ]
  }
 ],
 "metadata": {
  "kernelspec": {
   "display_name": "peter",
   "language": "python",
   "name": "peter"
  },
  "language_info": {
   "codemirror_mode": {
    "name": "ipython",
    "version": 3
   },
   "file_extension": ".py",
   "mimetype": "text/x-python",
   "name": "python",
   "nbconvert_exporter": "python",
   "pygments_lexer": "ipython3",
   "version": "3.6.6"
  }
 },
 "nbformat": 4,
 "nbformat_minor": 4
}
